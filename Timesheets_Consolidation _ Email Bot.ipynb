{
 "cells": [
  {
   "cell_type": "code",
   "execution_count": 1,
   "id": "f69394ef",
   "metadata": {},
   "outputs": [],
   "source": [
    "## ** NOTES **\n",
    "# Update file location for latest week at block 3\n",
    "\n",
    "# Download Packages\n",
    "import pandas as pd\n",
    "import glob\n",
    "\n",
    "week=\"Week 35\"\n",
    "filename = week + ' Time Report Combined.xlsx'\n",
    "\n",
    "Global_Text=\"\""
   ]
  },
  {
   "cell_type": "code",
   "execution_count": 2,
   "id": "49d36467",
   "metadata": {},
   "outputs": [],
   "source": [
    "# Function to consolidate Latest Week Files\n",
    "def raw_input_consolidation(files, output_file=filename):\n",
    "    df_list = []\n",
    "    for f in files:\n",
    "        print(f)\n",
    "        #df = pd.read_excel(f,header=0,sheet_name='Data Upload',error_bad_lines=False,encoding='utf-8')\n",
    "        #removed encoding and error_bad_lines as they are not valid keyword arguments\n",
    "        df = pd.read_excel(f,header=0,sheet_name='Data Upload')\n",
    "        df_list.append(df)\n",
    "\n",
    "\n",
    "    consolidated_df = pd.concat(df_list, sort=False)\n",
    "        \n",
    "    # Remove duplicate rows\n",
    "    consolidated_df = consolidated_df.drop_duplicates()\n",
    "        \n",
    "    # Remove Blank rows\n",
    "    consolidated_df.dropna(subset=['Hours'],inplace=True)\n",
    "\n",
    "    # Update date columns\n",
    "    consolidated_df['Week Start'] = consolidated_df['Week Start'].dt.date\n",
    "    consolidated_df['Date'] = consolidated_df['Date'].dt.date\n",
    "    \n",
    "    # Update calculated column to show only 2 decimal places\n",
    "    consolidated_df['Revised Hours'] = consolidated_df['Revised Hours'].round(2)\n",
    "    consolidated_df['Revised Days'] = consolidated_df['Revised Days'].round(2)\n",
    "    consolidated_df['Hours for tracking'] = consolidated_df['Hours for tracking'].round(2)\n",
    "    consolidated_df['Days for Tracking'] = consolidated_df['Days for Tracking'].round(2)\n",
    "    \n",
    "    print(\"consolidated_df shape-\", consolidated_df.shape)\n",
    "    consolidated_df.to_excel(output_file, index=False)\n",
    "    print(\"Done! consolidated file saved at - \", output_file)\n",
    "    Global_Text=output_file\n",
    "    return consolidated_df"
   ]
  },
  {
   "cell_type": "code",
   "execution_count": 3,
   "id": "4c0f5efd",
   "metadata": {},
   "outputs": [
    {
     "name": "stdout",
     "output_type": "stream",
     "text": [
      "Z:\\Shared\\Impendi Team Folder\\Impendi Knowledge Repository\\4. Category Packs\\Logistics\\6. Time Tracking\\Timesheets\\2022\\Aug\\Week 35 (8.20 - 8.26)\\2022-Week 35 Time Report Submission For Anushri Boobna.xlsm\n",
      "Z:\\Shared\\Impendi Team Folder\\Impendi Knowledge Repository\\4. Category Packs\\Logistics\\6. Time Tracking\\Timesheets\\2022\\Aug\\Week 35 (8.20 - 8.26)\\2022-Week 35 Time Report Submission For Brian Sternberg.xlsm\n",
      "Z:\\Shared\\Impendi Team Folder\\Impendi Knowledge Repository\\4. Category Packs\\Logistics\\6. Time Tracking\\Timesheets\\2022\\Aug\\Week 35 (8.20 - 8.26)\\2022-Week 35 Time Report Submission For Burke Thompson.xlsm\n",
      "Z:\\Shared\\Impendi Team Folder\\Impendi Knowledge Repository\\4. Category Packs\\Logistics\\6. Time Tracking\\Timesheets\\2022\\Aug\\Week 35 (8.20 - 8.26)\\2022-Week 35 Time Report Submission For Ken Catalfamo.xlsm\n",
      "Z:\\Shared\\Impendi Team Folder\\Impendi Knowledge Repository\\4. Category Packs\\Logistics\\6. Time Tracking\\Timesheets\\2022\\Aug\\Week 35 (8.20 - 8.26)\\2022-Week 35 Time Report Submission For Matthew Burgess.xlsm\n",
      "Z:\\Shared\\Impendi Team Folder\\Impendi Knowledge Repository\\4. Category Packs\\Logistics\\6. Time Tracking\\Timesheets\\2022\\Aug\\Week 35 (8.20 - 8.26)\\2022-Week 35 Time Report Submission For Poorva Bajaj.xlsm\n",
      "Z:\\Shared\\Impendi Team Folder\\Impendi Knowledge Repository\\4. Category Packs\\Logistics\\6. Time Tracking\\Timesheets\\2022\\Aug\\Week 35 (8.20 - 8.26)\\2022-Week 35 Time Report Submission For Samuel Go.xlsm\n",
      "Z:\\Shared\\Impendi Team Folder\\Impendi Knowledge Repository\\4. Category Packs\\Logistics\\6. Time Tracking\\Timesheets\\2022\\Aug\\Week 35 (8.20 - 8.26)\\2022-Week%2035%20Time%20Report%20Submission%20For%20Arham%20Anwar.xlsm\n",
      "Z:\\Shared\\Impendi Team Folder\\Impendi Knowledge Repository\\4. Category Packs\\Logistics\\6. Time Tracking\\Timesheets\\2022\\Aug\\Week 35 (8.20 - 8.26)\\2022-Week%2035%20Time%20Report%20Submission%20For%20Steed%20Clark.xlsm\n",
      "consolidated_df shape- (121, 14)\n",
      "Done! consolidated file saved at -  Z:\\Shared\\Impendi Team Folder\\Impendi Knowledge Repository\\4. Category Packs\\Logistics\\6. Time Tracking\\Timesheets\\2022\\Aug\\Week 35 (8.20 - 8.26)\\Week 35 Time Report Combined.xlsx\n"
     ]
    }
   ],
   "source": [
    "# Path to Latest Week Files\n",
    "TimeSheets_Latest = glob.glob(r\"Z:\\Shared\\Impendi Team Folder\\Impendi Knowledge Repository\\4. Category Packs\\Logistics\\6. Time Tracking\\Timesheets\\2022\\Aug\\Week 35 (8.20 - 8.26)\\*.xlsm\")\n",
    "\n",
    "# Calling the consolidation function\n",
    "output_file = r\"Z:\\Shared\\Impendi Team Folder\\Impendi Knowledge Repository\\4. Category Packs\\Logistics\\6. Time Tracking\\Timesheets\\2022\\Aug\\Week 35 (8.20 - 8.26)\" + \"\\\\\" + filename\n",
    "df_TimeSheet_Latest = raw_input_consolidation(TimeSheets_Latest, output_file)\n",
    "\n",
    "\n",
    "\n",
    "##********************************* Append to Summary File (Time Reports Combined Summary.xlsx) *****************************************##\n",
    "\n",
    "## Script to be created\n"
   ]
  },
  {
   "cell_type": "code",
   "execution_count": 4,
   "id": "beca0ae2",
   "metadata": {},
   "outputs": [],
   "source": [
    "#Timesheets Bot\n",
    "#Note - Email password refers to unique 2 factor app password \n",
    "#account password for this email is - impendi2022\n",
    "\n",
    "import smtplib\n",
    "import ssl\n",
    "from email.message import EmailMessage\n",
    "\n",
    "# Define email sender and receiver\n",
    "email_sender = 'timesheets.bot.impendi@gmail.com'\n",
    "email_password = 'ablbtnukdtomgtnl'\n",
    "email_receiver = 'Matthew.Burgess@impendi.com'\n",
    "\n",
    "#Write Message\n",
    "message=\"\"\"\n",
    "Hey Matt,\n",
    "\n",
    "Link for consolidated file is below -\n",
    "\"\"\"+ output_file +\"\"\"\n",
    "\n",
    "Best Regards,\n",
    "Timesheets Bot\n",
    "\n",
    "I am a bot, please don't reply to me. Contact - arham.anwar@impendi.com \n",
    "\"\"\"\n",
    "\n",
    "# Set the subject and body of the email\n",
    "subject = 'Consolidated Timesheets'\n",
    "body = message\n",
    "\n",
    "em = EmailMessage()\n",
    "em['From'] = email_sender\n",
    "em['To'] = email_receiver\n",
    "em['Subject'] = subject\n",
    "em.set_content(body)\n",
    "\n",
    "# Add SSL (layer of security)\n",
    "context = ssl.create_default_context()\n",
    "\n",
    "# Log in and send the email\n",
    "with smtplib.SMTP_SSL('smtp.gmail.com', 465, context=context) as smtp:\n",
    "    smtp.login(email_sender, email_password)\n",
    "    smtp.sendmail(email_sender, email_receiver, em.as_string())"
   ]
  },
  {
   "cell_type": "code",
   "execution_count": 5,
   "id": "3b83738d",
   "metadata": {},
   "outputs": [
    {
     "data": {
      "text/plain": [
       "\"\\nHey Matt,\\n\\nLink for consolidated file is below -\\nZ:\\\\Shared\\\\Impendi Team Folder\\\\Impendi Knowledge Repository\\\\4. Category Packs\\\\Logistics\\\\6. Time Tracking\\\\Timesheets\\\\2022\\\\Aug\\\\Week 35 (8.20 - 8.26)\\\\Week 35 Time Report Combined.xlsx\\n\\nBest Regards,\\nTimesheets Bot\\n\\nI am a bot, please don't reply to me. Contact - arham.anwar@impendi.com \\n\""
      ]
     },
     "execution_count": 5,
     "metadata": {},
     "output_type": "execute_result"
    }
   ],
   "source": [
    "message"
   ]
  },
  {
   "cell_type": "code",
   "execution_count": null,
   "id": "e0ea771d",
   "metadata": {},
   "outputs": [],
   "source": []
  }
 ],
 "metadata": {
  "kernelspec": {
   "display_name": "Python 3 (ipykernel)",
   "language": "python",
   "name": "python3"
  },
  "language_info": {
   "codemirror_mode": {
    "name": "ipython",
    "version": 3
   },
   "file_extension": ".py",
   "mimetype": "text/x-python",
   "name": "python",
   "nbconvert_exporter": "python",
   "pygments_lexer": "ipython3",
   "version": "3.9.7"
  }
 },
 "nbformat": 4,
 "nbformat_minor": 5
}
